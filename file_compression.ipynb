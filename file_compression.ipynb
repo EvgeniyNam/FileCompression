{
  "nbformat": 4,
  "nbformat_minor": 0,
  "metadata": {
    "colab": {
      "provenance": []
    },
    "kernelspec": {
      "name": "python3",
      "display_name": "Python 3"
    },
    "language_info": {
      "name": "python"
    }
  },
  "cells": [
    {
      "cell_type": "code",
      "source": [
        "import os\n",
        "import time\n",
        "import zipfile"
      ],
      "metadata": {
        "id": "UNJGR9ZvgkQf"
      },
      "execution_count": 6,
      "outputs": []
    },
    {
      "cell_type": "code",
      "source": [
        "def compress_folder(folder_path, zip_name):\n",
        "    # Создание zip-архива\n",
        "    with zipfile.ZipFile(zip_name, 'w') as zipf:\n",
        "        for root, dirs, files in os.walk(folder_path):\n",
        "            for file in files:\n",
        "                zipf.write(os.path.join(root, file), os.path.relpath(os.path.join(root, file), folder_path))\n",
        "\n",
        "\n",
        "def save_compressed_folder(source_folder, destination_folder, zip_name):\n",
        "    # Создание полного пути к исходной и целевой папкам\n",
        "    source_path = os.path.abspath(source_folder)\n",
        "    destination_path = os.path.abspath(destination_folder)\n",
        "\n",
        "    # Проверка существования исходной папки\n",
        "    if not os.path.exists(source_path):\n",
        "        print(f\"Исходная папка '{source_path}' не существует.\")\n",
        "        return\n",
        "\n",
        "    # Проверка существования целевой папки, если ее нет, то создаем\n",
        "    if not os.path.exists(destination_path):\n",
        "        os.makedirs(destination_path)\n",
        "        print(f\"Создана целевая папка '{destination_path}'.\")\n",
        "\n",
        "    # Полный путь к сжатому файлу\n",
        "    zip_path = os.path.join(destination_path, zip_name)\n",
        "\n",
        "    # Сжатие папки\n",
        "    compress_folder(source_path, zip_path)\n",
        "    print(f\"Папка '{source_path}' сжата и сохранена в архив '{zip_path}'.\")\n",
        "\n",
        "\n",
        "if __name__ == \"__main__\":\n",
        "    source_folder = 'session-865d4476-f377-4cef-97a2-c36ae11613cf'\n",
        "    destination_folder = 'zip_folders'\n",
        "    zip_name = source_folder + '.zip'\n",
        "\n",
        "    # Бесконечный цикл для выполнения операции раз в день\n",
        "    while True:\n",
        "        save_compressed_folder(source_folder, destination_folder, zip_name)\n",
        "        # Задержка на 60 секунд\n",
        "        time.sleep(60)\n"
      ],
      "metadata": {
        "id": "5yAxnhnMh660"
      },
      "execution_count": null,
      "outputs": []
    }
  ]
}